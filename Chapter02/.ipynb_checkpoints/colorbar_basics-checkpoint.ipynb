{
 "cells": [
  {
   "cell_type": "code",
   "execution_count": null,
   "metadata": {},
   "outputs": [],
   "source": [
    "%matplotlib inline"
   ]
  },
  {
   "cell_type": "markdown",
   "metadata": {},
   "source": [
    "\n",
    "# Colorbar\n",
    "\n",
    "\n",
    "Use `~.figure.Figure.colorbar` by specifying the mappable object (here\n",
    "the `~.matplotlib.image.AxesImage` returned by `~.axes.Axes.imshow`)\n",
    "and the axes to attach the colorbar to.\n",
    "\n"
   ]
  },
  {
   "cell_type": "code",
   "execution_count": 1,
   "metadata": {},
   "outputs": [
    {
     "ename": "AttributeError",
     "evalue": "'Colorbar' object has no attribute 'minorticks_on'",
     "output_type": "error",
     "traceback": [
      "\u001b[1;31m---------------------------------------------------------------------------\u001b[0m",
      "\u001b[1;31mAttributeError\u001b[0m                            Traceback (most recent call last)",
      "\u001b[1;32m<ipython-input-1-c78c1dca97f9>\u001b[0m in \u001b[0;36m<module>\u001b[1;34m()\u001b[0m\n\u001b[0;32m     32\u001b[0m \u001b[1;31m# values off the colorbar.\u001b[0m\u001b[1;33m\u001b[0m\u001b[1;33m\u001b[0m\u001b[0m\n\u001b[0;32m     33\u001b[0m \u001b[0mcbar\u001b[0m \u001b[1;33m=\u001b[0m \u001b[0mfig\u001b[0m\u001b[1;33m.\u001b[0m\u001b[0mcolorbar\u001b[0m\u001b[1;33m(\u001b[0m\u001b[0mpos_neg_clipped\u001b[0m\u001b[1;33m,\u001b[0m \u001b[0max\u001b[0m\u001b[1;33m=\u001b[0m\u001b[0max3\u001b[0m\u001b[1;33m,\u001b[0m \u001b[0mextend\u001b[0m\u001b[1;33m=\u001b[0m\u001b[1;34m'both'\u001b[0m\u001b[1;33m)\u001b[0m\u001b[1;33m\u001b[0m\u001b[0m\n\u001b[1;32m---> 34\u001b[1;33m \u001b[0mcbar\u001b[0m\u001b[1;33m.\u001b[0m\u001b[0mminorticks_on\u001b[0m\u001b[1;33m(\u001b[0m\u001b[1;33m)\u001b[0m\u001b[1;33m\u001b[0m\u001b[0m\n\u001b[0m\u001b[0;32m     35\u001b[0m \u001b[0mplt\u001b[0m\u001b[1;33m.\u001b[0m\u001b[0mshow\u001b[0m\u001b[1;33m(\u001b[0m\u001b[1;33m)\u001b[0m\u001b[1;33m\u001b[0m\u001b[0m\n",
      "\u001b[1;31mAttributeError\u001b[0m: 'Colorbar' object has no attribute 'minorticks_on'"
     ]
    }
   ],
   "source": [
    "import numpy as np\n",
    "import matplotlib.pyplot as plt\n",
    "\n",
    "# setup some generic data\n",
    "N = 37\n",
    "x, y = np.mgrid[:N, :N]\n",
    "Z = (np.cos(x*0.2) + np.sin(y*0.3))\n",
    "\n",
    "# mask out the negative and positive values, respectively\n",
    "Zpos = np.ma.masked_less(Z, 0)\n",
    "Zneg = np.ma.masked_greater(Z, 0)\n",
    "\n",
    "fig, (ax1, ax2, ax3) = plt.subplots(figsize=(13, 3), ncols=3)\n",
    "\n",
    "# plot just the positive data and save the\n",
    "# color \"mappable\" object returned by ax1.imshow\n",
    "pos = ax1.imshow(Zpos, cmap='Blues', interpolation='none')\n",
    "\n",
    "# add the colorbar using the figure's method,\n",
    "# telling which mappable we're talking about and\n",
    "# which axes object it should be near\n",
    "fig.colorbar(pos, ax=ax1)\n",
    "\n",
    "# repeat everything above for the negative data\n",
    "neg = ax2.imshow(Zneg, cmap='Reds_r', interpolation='none')\n",
    "fig.colorbar(neg, ax=ax2)\n",
    "\n",
    "# Plot both positive and negative values betwen +/- 1.2\n",
    "pos_neg_clipped = ax3.imshow(Z, cmap='RdBu', vmin=-1.2, vmax=1.2,\n",
    "                             interpolation='none')\n",
    "# Add minorticks on the colorbar to make it easy to read the\n",
    "# values off the colorbar.\n",
    "cbar = fig.colorbar(pos_neg_clipped, ax=ax3, extend='both')\n",
    "cbar.minorticks_on()\n",
    "plt.show()"
   ]
  },
  {
   "cell_type": "markdown",
   "metadata": {},
   "source": [
    "------------\n",
    "\n",
    "References\n",
    "\"\"\"\"\"\"\"\"\"\"\n",
    "\n",
    "The use of the following functions, methods, classes and modules is shown\n",
    "in this example:\n",
    "\n"
   ]
  },
  {
   "cell_type": "code",
   "execution_count": null,
   "metadata": {},
   "outputs": [],
   "source": [
    "import matplotlib\n",
    "import matplotlib.colorbar\n",
    "matplotlib.axes.Axes.imshow\n",
    "matplotlib.pyplot.imshow\n",
    "matplotlib.figure.Figure.colorbar\n",
    "matplotlib.pyplot.colorbar\n",
    "matplotlib.colorbar.Colorbar.minorticks_on\n",
    "matplotlib.colorbar.Colorbar.minorticks_off"
   ]
  }
 ],
 "metadata": {
  "kernelspec": {
   "display_name": "Python 3",
   "language": "python",
   "name": "python3"
  },
  "language_info": {
   "codemirror_mode": {
    "name": "ipython",
    "version": 3
   },
   "file_extension": ".py",
   "mimetype": "text/x-python",
   "name": "python",
   "nbconvert_exporter": "python",
   "pygments_lexer": "ipython3",
   "version": "3.6.5"
  }
 },
 "nbformat": 4,
 "nbformat_minor": 1
}
