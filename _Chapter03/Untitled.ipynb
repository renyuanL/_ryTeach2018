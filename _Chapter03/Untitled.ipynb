{
 "cells": [
  {
   "cell_type": "code",
   "execution_count": 16,
   "metadata": {},
   "outputs": [],
   "source": [
    "\n",
    "from sklearn import datasets\n",
    "import numpy as np\n",
    "\n",
    "def readIris():\n",
    "    iris= datasets.load_iris()\n",
    "    X= iris.data[:, [0, 2]]\n",
    "    y= iris.target\n",
    "    y= np.where(y == 0, # if\n",
    "                +1,                 # then\n",
    "                -1)                 # else\n",
    "    \n",
    "    return X, y"
   ]
  },
  {
   "cell_type": "code",
   "execution_count": 17,
   "metadata": {},
   "outputs": [
    {
     "data": {
      "text/plain": [
       "array([ 1,  1,  1,  1,  1,  1,  1,  1,  1,  1,  1,  1,  1,  1,  1,  1,  1,\n",
       "        1,  1,  1,  1,  1,  1,  1,  1,  1,  1,  1,  1,  1,  1,  1,  1,  1,\n",
       "        1,  1,  1,  1,  1,  1,  1,  1,  1,  1,  1,  1,  1,  1,  1,  1, -1,\n",
       "       -1, -1, -1, -1, -1, -1, -1, -1, -1, -1, -1, -1, -1, -1, -1, -1, -1,\n",
       "       -1, -1, -1, -1, -1, -1, -1, -1, -1, -1, -1, -1, -1, -1, -1, -1, -1,\n",
       "       -1, -1, -1, -1, -1, -1, -1, -1, -1, -1, -1, -1, -1, -1, -1, -1, -1,\n",
       "       -1, -1, -1, -1, -1, -1, -1, -1, -1, -1, -1, -1, -1, -1, -1, -1, -1,\n",
       "       -1, -1, -1, -1, -1, -1, -1, -1, -1, -1, -1, -1, -1, -1, -1, -1, -1,\n",
       "       -1, -1, -1, -1, -1, -1, -1, -1, -1, -1, -1, -1, -1, -1])"
      ]
     },
     "execution_count": 17,
     "metadata": {},
     "output_type": "execute_result"
    }
   ],
   "source": [
    "X,y= readIris()\n",
    "y"
   ]
  },
  {
   "cell_type": "code",
   "execution_count": 18,
   "metadata": {},
   "outputs": [
    {
     "name": "stderr",
     "output_type": "stream",
     "text": [
      "C:\\Users\\renyu\\Anaconda3\\lib\\site-packages\\sklearn\\linear_model\\stochastic_gradient.py:128: FutureWarning: max_iter and tol parameters have been added in <class 'sklearn.linear_model.perceptron.Perceptron'> in 0.19. If both are left unset, they default to max_iter=5 and tol=None. If tol is not None, max_iter defaults to max_iter=1000. From 0.21, default max_iter will be 1000, and default tol will be 1e-3.\n",
      "  \"and default tol will be 1e-3.\" % type(self), FutureWarning)\n"
     ]
    },
    {
     "data": {
      "text/plain": [
       "Perceptron(alpha=0.0001, class_weight=None, eta0=1.0, fit_intercept=True,\n",
       "      max_iter=None, n_iter=None, n_jobs=1, penalty=None, random_state=0,\n",
       "      shuffle=True, tol=None, verbose=0, warm_start=False)"
      ]
     },
     "execution_count": 18,
     "metadata": {},
     "output_type": "execute_result"
    }
   ],
   "source": [
    "from sklearn.linear_model import Perceptron\n",
    "\n",
    "ppn= Perceptron()#n_iter= 40, eta0= 0.1, random_state= 1)\n",
    "ppn.fit(X, y)"
   ]
  },
  {
   "cell_type": "code",
   "execution_count": 31,
   "metadata": {},
   "outputs": [],
   "source": [
    "from matplotlib.colors import ListedColormap\n",
    "import matplotlib.pyplot as plt\n",
    "\n",
    "\n",
    "def plot_decision_regions(X, y, classifier, test_idx=None, resolution=0.02):\n",
    "\n",
    "    # setup marker generator and color map\n",
    "    markers = ('s', 'x', 'o', '^', 'v')\n",
    "    colors = ('red', 'blue', 'lightgreen', 'gray', 'cyan')\n",
    "    cmap = ListedColormap(colors[:len(np.unique(y))])\n",
    "\n",
    "    # plot the decision surface\n",
    "    x1_min, x1_max = X[:, 0].min() - 1, X[:, 0].max() + 1\n",
    "    x2_min, x2_max = X[:, 1].min() - 1, X[:, 1].max() + 1\n",
    "    xx1, xx2 = np.meshgrid(np.arange(x1_min, x1_max, resolution),\n",
    "                           np.arange(x2_min, x2_max, resolution))\n",
    "    Z = classifier.predict(np.array([xx1.ravel(), xx2.ravel()]).T)\n",
    "    Z = Z.reshape(xx1.shape)\n",
    "    #plt.contourf(xx1, xx2, Z, alpha=0.3, cmap=cmap)\n",
    "    plt.contourf(xx1, xx2, Z, alpha=0.3, cmap=cmap)\n",
    "    plt.xlim(xx1.min(), xx1.max())\n",
    "    plt.ylim(xx2.min(), xx2.max())\n",
    "\n",
    "    for idx, cl in enumerate(np.unique(y)):\n",
    "        plt.scatter(x=X[y == cl, 0], \n",
    "                    y=X[y == cl, 1],\n",
    "                    alpha=0.8, \n",
    "                    c=colors[idx],\n",
    "                    marker=markers[idx], \n",
    "                    label=cl, \n",
    "                    edgecolor='black')\n",
    "\n",
    "    # highlight test samples\n",
    "    if test_idx:\n",
    "        # plot all samples\n",
    "        X_test, y_test = X[test_idx, :], y[test_idx]\n",
    "\n",
    "        plt.scatter(X_test[:, 0],\n",
    "                    X_test[:, 1],\n",
    "                    c='',\n",
    "                    edgecolor='black',\n",
    "                    alpha=1.0,\n",
    "                    linewidth=1,\n",
    "                    marker='o',\n",
    "                    s=100, \n",
    "                    label='test set')"
   ]
  },
  {
   "cell_type": "code",
   "execution_count": 32,
   "metadata": {},
   "outputs": [
    {
     "data": {
      "image/png": "[encoded data removed]",
      "text/plain": [
       "<Figure size 432x288 with 1 Axes>"
      ]
     },
     "metadata": {},
     "output_type": "display_data"
    }
   ],
   "source": [
    "plot_decision_regions(X, y,\n",
    "                      classifier= ppn, \n",
    "                      resolution=1)#,\n",
    "                      #test_idx= range(105, 150))"
   ]
  },
  {
   "cell_type": "code",
   "execution_count": 28,
   "metadata": {},
   "outputs": [],
   "source": [
    "import matplotlib.colors\n",
    "def plot_decision_regions_old(X, y, \n",
    "                          classifier= None, \n",
    "                          resolution= 1, \n",
    "                          xylim= None):\n",
    "\n",
    "    markers=  ('x',   'o')\n",
    "    colors=   ('blue','red')\n",
    "    colormap= matplotlib.colors.ListedColormap(colors)\n",
    "\n",
    "    # 取得 資料集特徵向量 X，以及標籤 y\n",
    "    # X= ... \n",
    "    # y= ... \n",
    "\n",
    "    # 先假設 尚無 classifier\n",
    "    # classifier= None \n",
    "\n",
    "    # surface 網格點 (meshGrid) 之解析度\n",
    "    ### resolution= 1 # .1\n",
    "\n",
    "    # 設定 類別標記 圖示標記 和 顏色 之 對應\n",
    "    # setup marker generator and color map\n",
    "\n",
    "    # 以本題而言，  '-1', '+1' ==> index= [0, 1] ==> ['x', 'o'] ==> ['blue', 'red']\n",
    "    uniqueY= np.unique(y) # == [-1, +1]\n",
    "    # np.unique(y) Returns the sorted unique elements of an array.\n",
    "\n",
    "    # plot samples with labels\n",
    "\n",
    "    for i, lb in enumerate(uniqueY):\n",
    "\n",
    "        x0= X[y == lb, 0] \n",
    "        x1= X[y == lb, 1]\n",
    "\n",
    "        plt.scatter(x= x0, \n",
    "                    y= x1, \n",
    "                    label= lb,\n",
    "                    alpha= .9, \n",
    "                    c=      colors[i],\n",
    "                    marker= markers[i], \n",
    "                    edgecolor='black')\n",
    "\n",
    "    #plt.xlim(x0_min, x0_max)\n",
    "    #plt.ylim(x1_min, x1_max)\n",
    "    #plt.show()\n",
    "\n",
    "    # plot the decision surface\n",
    "\n",
    "    # 橫坐標 x0, 縱座標 x1 之最大與最小值\n",
    "    if xylim == None:\n",
    "        x0_min= X[:, 0].min() - 1\n",
    "        x0_max= X[:, 0].max() + resolution\n",
    "        x1_min= X[:, 1].min() - 1\n",
    "        x1_max= X[:, 1].max() + resolution\n",
    "        \n",
    "    elif isinstance(xylim,(int,float)):\n",
    "        x0_min= x1_min = -abs(xylim)\n",
    "        x0_max= x1_max = +abs(xylim) + resolution\n",
    "    \n",
    "    else:\n",
    "        x0_min= x1_min = -10\n",
    "        x0_max= x1_max = +10 + resolution\n",
    "    \n",
    "\n",
    "    #製造所有範圍內的「網格點」(meshGrid)\n",
    "    xx0, xx1= np.meshgrid(np.arange(x0_min, x0_max, resolution),\n",
    "                          np.arange(x1_min, x1_max, resolution))\n",
    "\n",
    "    if classifier == None:\n",
    "        \n",
    "        # 沒有 classifier 時， \n",
    "        # 先用一條不等式來二分全平面 (+1/-1)        \n",
    "        # z(x,y) = x + y - 10\n",
    "        # z(x,y) <= 0  ==> u= +1\n",
    "         \n",
    "        #z=  xx0.ravel() + xx1.ravel() - 10\n",
    "        #z= -xx0.ravel() - xx1.ravel() + 10\n",
    "        z=  xx0.ravel() + xx1.ravel() - 1\n",
    "\n",
    "        u= (z<=0)    # True / False\n",
    "        u= u*2-1     # True ==> +1 / False ==> -1\n",
    "        Z= np.array(u).T\n",
    "    else:\n",
    "        # 若有 classfier，可用它 對所有網格點做 predict (工程浩大喔！) \n",
    "        u= np.array([xx0.ravel(), xx1.ravel()])\n",
    "        Z= classifier.predict(u.T) #.T\n",
    "\n",
    "\n",
    "    Z= Z.reshape(xx0.shape)\n",
    "\n",
    "    # plt.contourf(xx0, xx1, Z, alpha= .1, cmap= colormap)\n",
    "    # plt.pcolormesh(xx0, xx1, Z, alpha= .1, cmap= colormap)\n",
    "\n",
    "    plt.pcolormesh(xx0, xx1, Z, alpha= .1, cmap= colormap)\n",
    "\n",
    "    plt.xlim(x0_min, x0_max)\n",
    "    plt.ylim(x1_min, x1_max)\n",
    "    plt.show()\n"
   ]
  },
  {
   "cell_type": "code",
   "execution_count": 33,
   "metadata": {},
   "outputs": [
    {
     "data": {
      "image/png": "[encoded data removed]",
      "text/plain": [
       "<Figure size 432x288 with 1 Axes>"
      ]
     },
     "metadata": {},
     "output_type": "display_data"
    }
   ],
   "source": [
    "plot_decision_regions_old(X, y,\n",
    "                      classifier= ppn, \n",
    "                      resolution=1)#,\n",
    "                      #test_idx= range(105, 150))"
   ]
  },
  {
   "cell_type": "code",
   "execution_count": null,
   "metadata": {},
   "outputs": [],
   "source": []
  }
 ],
 "metadata": {
  "kernelspec": {
   "display_name": "Python 3",
   "language": "python",
   "name": "python3"
  },
  "language_info": {
   "codemirror_mode": {
    "name": "ipython",
    "version": 3
   },
   "file_extension": ".py",
   "mimetype": "text/x-python",
   "name": "python",
   "nbconvert_exporter": "python",
   "pygments_lexer": "ipython3",
   "version": "3.6.5"
  }
 },
 "nbformat": 4,
 "nbformat_minor": 2
}
