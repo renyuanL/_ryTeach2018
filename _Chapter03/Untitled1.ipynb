{
 "cells": [
  {
   "cell_type": "code",
   "execution_count": 1,
   "metadata": {},
   "outputs": [
    {
     "ename": "ModuleNotFoundError",
     "evalue": "No module named 'ryTeach'",
     "output_type": "error",
     "traceback": [
      "\u001b[1;31m---------------------------------------------------------------------------\u001b[0m",
      "\u001b[1;31mModuleNotFoundError\u001b[0m                       Traceback (most recent call last)",
      "\u001b[1;32m<ipython-input-1-266b1ec79e36>\u001b[0m in \u001b[0;36m<module>\u001b[1;34m()\u001b[0m\n\u001b[0;32m     11\u001b[0m \u001b[1;32mfrom\u001b[0m \u001b[0msklearn\u001b[0m\u001b[1;33m.\u001b[0m\u001b[0mlinear_model\u001b[0m   \u001b[1;32mimport\u001b[0m \u001b[0mPerceptron\u001b[0m\u001b[1;33m\u001b[0m\u001b[0m\n\u001b[0;32m     12\u001b[0m \u001b[1;33m\u001b[0m\u001b[0m\n\u001b[1;32m---> 13\u001b[1;33m \u001b[1;32mfrom\u001b[0m \u001b[0mryTeach\u001b[0m \u001b[1;32mimport\u001b[0m \u001b[0mplot_decision_regions\u001b[0m\u001b[1;33m\u001b[0m\u001b[0m\n\u001b[0m\u001b[0;32m     14\u001b[0m \u001b[1;33m\u001b[0m\u001b[0m\n\u001b[0;32m     15\u001b[0m \u001b[1;33m\u001b[0m\u001b[0m\n",
      "\u001b[1;31mModuleNotFoundError\u001b[0m: No module named 'ryTeach'"
     ]
    }
   ],
   "source": [
    "#\n",
    "# rySkLearn02.py\n",
    "# ry@2018.10.19\n",
    "#\n",
    "\n",
    "import numpy                as np\n",
    "import matplotlib.pyplot    as plt\n",
    "from   matplotlib.colors    import ListedColormap\n",
    "\n",
    "from sklearn                import datasets\n",
    "from sklearn.linear_model   import Perceptron\n",
    "\n",
    "from ryTeach import plot_decision_regions\n",
    "\n",
    "\n",
    "\n",
    "# 讀進資料\n",
    "iris= datasets.load_iris()\n",
    "X=    iris.data[:, [0, 2]]\n",
    "y=    iris.target\n",
    "\n",
    "### Training a logistic regression model with scikit-learn\n",
    "\n",
    "from sklearn.linear_model import LogisticRegression\n",
    "\n",
    "lr= LogisticRegression(C= 100.0, random_state= 1)\n",
    "lr.fit(X_train_std, y_train)\n",
    "\n",
    "plot_decision_regions(X, \n",
    "                      y,\n",
    "                      classifier= lr, \n",
    "                      test_idx= range(105, 150))\n",
    "\n",
    "plt.xlabel('petalLength [standardized]')\n",
    "plt.ylabel('petalWidth  [standardized]')\n",
    "plt.legend()\n",
    "plt.show()"
   ]
  },
  {
   "cell_type": "code",
   "execution_count": null,
   "metadata": {},
   "outputs": [],
   "source": []
  }
 ],
 "metadata": {
  "kernelspec": {
   "display_name": "Python 3",
   "language": "python",
   "name": "python3"
  },
  "language_info": {
   "codemirror_mode": {
    "name": "ipython",
    "version": 3
   },
   "file_extension": ".py",
   "mimetype": "text/x-python",
   "name": "python",
   "nbconvert_exporter": "python",
   "pygments_lexer": "ipython3",
   "version": "3.6.5"
  }
 },
 "nbformat": 4,
 "nbformat_minor": 2
}
